{
  "nbformat": 4,
  "nbformat_minor": 0,
  "metadata": {
    "colab": {
      "provenance": []
    },
    "kernelspec": {
      "name": "python3",
      "display_name": "Python 3"
    },
    "language_info": {
      "name": "python"
    }
  },
  "cells": [
    {
      "cell_type": "code",
      "source": [
        "import pandas as pd\n",
        "import numpy as np\n",
        "import matplotlib.pyplot as plt\n",
        "import seaborn as sns\n",
        "import os\n",
        "import kagglehub"
      ],
      "metadata": {
        "id": "FMBfcz16xYRH"
      },
      "execution_count": 1,
      "outputs": []
    },
    {
      "cell_type": "code",
      "source": [
        "from sklearn.linear_model import LogisticRegression\n",
        "from sklearn.model_selection import train_test_split\n",
        "from sklearn.metrics import (\n",
        "    accuracy_score,\n",
        "    confusion_matrix,\n",
        "    classification_report,\n",
        "    roc_auc_score,\n",
        "    roc_curve\n",
        ")\n",
        "from imblearn.over_sampling import SMOTE"
      ],
      "metadata": {
        "id": "wb08ptdyxSiX"
      },
      "execution_count": 2,
      "outputs": []
    },
    {
      "cell_type": "code",
      "source": [
        "# Download dataset from KaggleHub\n",
        "path = kagglehub.dataset_download(\"mathchi/churn-for-bank-customers\")\n",
        "print(\"Dataset path:\", path)\n",
        "churn_csv = os.path.join(path, \"churn.csv\")\n",
        "df = pd.read_csv(churn_csv)\n"
      ],
      "metadata": {
        "colab": {
          "base_uri": "https://localhost:8080/"
        },
        "id": "Mw1bwrluxUH2",
        "outputId": "58a9e250-be84-4587-cd85-59e5b8680445"
      },
      "execution_count": 3,
      "outputs": [
        {
          "output_type": "stream",
          "name": "stdout",
          "text": [
            "Downloading from https://www.kaggle.com/api/v1/datasets/download/mathchi/churn-for-bank-customers?dataset_version_number=1...\n"
          ]
        },
        {
          "output_type": "stream",
          "name": "stderr",
          "text": [
            "100%|██████████| 261k/261k [00:00<00:00, 49.4MB/s]"
          ]
        },
        {
          "output_type": "stream",
          "name": "stdout",
          "text": [
            "Extracting files...\n",
            "Dataset path: /root/.cache/kagglehub/datasets/mathchi/churn-for-bank-customers/versions/1\n"
          ]
        },
        {
          "output_type": "stream",
          "name": "stderr",
          "text": [
            "\n"
          ]
        }
      ]
    },
    {
      "cell_type": "code",
      "source": [
        "# Preprocessing\n",
        "df['Churn'] = df['Exited']\n",
        "df.drop('Exited', axis=1, inplace=True)\n",
        "df.dropna(inplace=True)\n",
        "df = pd.get_dummies(df, drop_first=True)\n",
        "\n",
        "X = df.drop('Churn', axis=1)\n",
        "y = df['Churn']\n"
      ],
      "metadata": {
        "id": "5GCCb-ShxdIA"
      },
      "execution_count": 4,
      "outputs": []
    },
    {
      "cell_type": "code",
      "source": [
        "# Train-test split\n",
        "X_train, X_test, y_train, y_test = train_test_split(\n",
        "    X, y, test_size=0.2, random_state=42, stratify=y\n",
        ")\n"
      ],
      "metadata": {
        "id": "Vb1u2NJexfTS"
      },
      "execution_count": 5,
      "outputs": []
    },
    {
      "cell_type": "code",
      "source": [
        "# Model training\n",
        "model = LogisticRegression(max_iter=1000)\n",
        "model.fit(X_train, y_train)\n",
        "y_pred = model.predict(X_test)\n",
        "y_proba = model.predict_proba(X_test)[:, 1]\n"
      ],
      "metadata": {
        "id": "qXwJF9irxhl7"
      },
      "execution_count": 6,
      "outputs": []
    },
    {
      "cell_type": "code",
      "source": [
        "# Accuracy\n",
        "acc = accuracy_score(y_test, y_pred)\n",
        "print(f\"Accuracy: {acc:.2f}\")\n"
      ],
      "metadata": {
        "colab": {
          "base_uri": "https://localhost:8080/"
        },
        "id": "abyrWWkxxjAa",
        "outputId": "22b922cb-6497-49f5-f2b5-114fd4373c64"
      },
      "execution_count": 7,
      "outputs": [
        {
          "output_type": "stream",
          "name": "stdout",
          "text": [
            "Accuracy: 0.78\n"
          ]
        }
      ]
    },
    {
      "cell_type": "code",
      "source": [
        "# Confusion matrix\n",
        "cm = confusion_matrix(y_test, y_pred)\n",
        "sns.heatmap(cm, annot=True, fmt='d', cmap='Blues')\n",
        "plt.xlabel(\"Predicted\")\n",
        "plt.ylabel(\"Actual\")\n",
        "plt.title(\"Confusion Matrix\")\n",
        "plt.show()\n"
      ],
      "metadata": {
        "colab": {
          "base_uri": "https://localhost:8080/",
          "height": 472
        },
        "id": "ze491Y5rxkIn",
        "outputId": "fa7f1342-f921-4c44-a98a-d91e276b5131"
      },
      "execution_count": 8,
      "outputs": [
        {
          "output_type": "display_data",
          "data": {
            "text/plain": [
              "<Figure size 640x480 with 2 Axes>"
            ],
            "image/png": "[encoded data removed]"
          },
          "metadata": {}
        }
      ]
    },
    {
      "cell_type": "code",
      "source": [
        "# Classification report\n",
        "print(\"Classification Report:\\n\", classification_report(y_test, y_pred))\n"
      ],
      "metadata": {
        "colab": {
          "base_uri": "https://localhost:8080/"
        },
        "id": "tgd5EKmVxlgW",
        "outputId": "28695065-0a52-4334-f8c2-b21fe34da556"
      },
      "execution_count": 9,
      "outputs": [
        {
          "output_type": "stream",
          "name": "stdout",
          "text": [
            "Classification Report:\n",
            "               precision    recall  f1-score   support\n",
            "\n",
            "           0       0.80      0.97      0.88      1593\n",
            "           1       0.27      0.04      0.08       407\n",
            "\n",
            "    accuracy                           0.78      2000\n",
            "   macro avg       0.54      0.51      0.48      2000\n",
            "weighted avg       0.69      0.78      0.71      2000\n",
            "\n"
          ]
        }
      ]
    },
    {
      "cell_type": "code",
      "source": [
        "# ROC curve and AUC\n",
        "fpr, tpr, _ = roc_curve(y_test, y_proba)\n",
        "plt.plot(fpr, tpr, label=f\"AUC = {roc_auc_score(y_test, y_proba):.2f}\")\n",
        "plt.plot([0, 1], [0, 1], linestyle='--')\n",
        "plt.xlabel(\"False Positive Rate\")\n",
        "plt.ylabel(\"True Positive Rate\")\n",
        "plt.title(\"ROC Curve\")\n",
        "plt.legend()\n",
        "plt.show()\n"
      ],
      "metadata": {
        "colab": {
          "base_uri": "https://localhost:8080/",
          "height": 472
        },
        "id": "kRLxfVkNxmyS",
        "outputId": "94127945-1f3e-4a83-c3fc-b8c466e0cbdd"
      },
      "execution_count": 10,
      "outputs": [
        {
          "output_type": "display_data",
          "data": {
            "text/plain": [
              "<Figure size 640x480 with 1 Axes>"
            ],
            "image/png": "[encoded data removed]"
          },
          "metadata": {}
        }
      ]
    },
    {
      "cell_type": "code",
      "source": [
        "# Coefficient interpretation\n",
        "coeffs = pd.DataFrame({\n",
        "    \"Feature\": X.columns,\n",
        "    \"Coefficient\": model.coef_[0]\n",
        "}).sort_values(by=\"Coefficient\", ascending=False)\n",
        "print(\"Model Coefficients:\\n\", coeffs)\n"
      ],
      "metadata": {
        "colab": {
          "base_uri": "https://localhost:8080/"
        },
        "id": "_BSG9H18xoDb",
        "outputId": "a1bfe369-20af-4680-bffb-b29c8d99b6e6"
      },
      "execution_count": 11,
      "outputs": [
        {
          "output_type": "stream",
          "name": "stdout",
          "text": [
            "Model Coefficients:\n",
            "                 Feature  Coefficient\n",
            "3                   Age     0.061897\n",
            "2941  Geography_Germany     0.001255\n",
            "1567        Surname_Lin     0.000028\n",
            "1698     Surname_Martin     0.000026\n",
            "1755   Surname_McGregor     0.000022\n",
            "...                 ...          ...\n",
            "6         NumOfProducts    -0.000225\n",
            "2942    Geography_Spain    -0.000360\n",
            "2           CreditScore    -0.000940\n",
            "2943        Gender_Male    -0.001141\n",
            "8        IsActiveMember    -0.001624\n",
            "\n",
            "[2944 rows x 2 columns]\n"
          ]
        }
      ]
    },
    {
      "cell_type": "code",
      "source": [
        "# Balancing with SMOTE\n",
        "smote = SMOTE(random_state=42)\n",
        "X_resampled, y_resampled = smote.fit_resample(X_train, y_train)\n",
        "print(\"Class distribution after SMOTE:\", dict(zip(*np.unique(y_resampled, return_counts=True))))"
      ],
      "metadata": {
        "colab": {
          "base_uri": "https://localhost:8080/"
        },
        "id": "Q41RUXWAxpmO",
        "outputId": "49b27006-4c71-40b6-942a-a3d749633a45"
      },
      "execution_count": 12,
      "outputs": [
        {
          "output_type": "stream",
          "name": "stdout",
          "text": [
            "Class distribution after SMOTE: {np.int64(0): np.int64(6370), np.int64(1): np.int64(6370)}\n"
          ]
        }
      ]
    }
  ]
}